{
 "cells": [
  {
   "attachments": {},
   "cell_type": "markdown",
   "metadata": {},
   "source": [
    "# Statistical Mechanics Midterm Asignment\n",
    "## Felix Semler\n",
    "## S3898547\n",
    "\n",
    "Python and Package versions:\n",
    "\n",
    "Python 3.9.12\n",
    "\n",
    "numpy 1.21.5\n",
    "\n",
    "scipy 1.10.0\n",
    "\n",
    "matplotlib 3.7.1\n",
    "\n",
    "Notation:\n",
    "I use $\\mathcal{Z}$ for the partition function"
   ]
  },
  {
   "attachments": {},
   "cell_type": "markdown",
   "metadata": {},
   "source": [
    "### A:\n",
    "\n",
    "Using the Quantum Harmonic oscillator formulation we know that the energy levels are:\n",
    "\\begin{equation}\n",
    " E_n = (n+\\frac{1}{2}) \\hbar\\omega\n",
    "\\end{equation}\n",
    "\n",
    "As we are modelling N 3-dimensional coupled oscillators, or equivalently 3N 1-dimensional independent oscillators with differing oscillation frequencies we require that omega be the average oscillation frequency denoted as $\\omega_E$\n",
    "\n",
    "Furthermore, we can get rid of the $E_0$ energy as it is constant and does not contribute to the thermodynamic properties\n",
    "\n",
    "We define the partition function for a discrete ensemble as :\n",
    "\\begin{equation}\n",
    " \\mathcal{Z} \\equiv \\sum_{n} e^{-E_n\\beta}\n",
    "\\end{equation}\n",
    "\n",
    "So we can write:\n",
    "\\begin{equation}\n",
    " \\mathcal{Z} = \\sum_{n=0}^{\\infty} e^{-n\\hbar\\omega_E\\beta}\n",
    "\\end{equation}\n",
    "\n",
    "for individual phonons.\n",
    "\n",
    "As our phonons are independent (or assumed to be so) a system with 3N vibrational modes will be the product of each phonons partition function\n",
    "\n",
    "\\begin{equation}\n",
    " \\mathcal{Z} = \\prod_{k=1}^{3N} \\mathcal{Z}_k\n",
    "\\end{equation}\n",
    "\n",
    "We can rewrite our individual phonon partition function using:\n",
    "\\begin{equation}\n",
    " \\sum_{x=0}^{\\infty} e^{cx} = \\frac{1}{1-e^c}\n",
    "\\end{equation}\n",
    "\n",
    "Which gives us:\n",
    "\\begin{equation}\n",
    " \\mathcal{Z}_k = \\sum_{n=0}^{\\infty} e^{-n\\hbar\\omega_E\\beta} =  \\frac{ 1}{1-e^{-\\hbar\\omega_E\\beta}}\n",
    "\\end{equation}\n",
    "\n",
    "So that the systems partition function is:\n",
    "\n",
    "\\begin{equation}\n",
    " \\mathcal{Z} = \\prod_{k=1}^{\\infty} \\frac{ 1}{1-e^{-\\hbar\\omega_E\\beta}}\n",
    "\\end{equation}\n"
   ]
  },
  {
   "attachments": {},
   "cell_type": "markdown",
   "metadata": {},
   "source": [
    "### B:\n",
    "\n",
    "The average occupational number is given as:\n",
    "\\begin{equation}\n",
    "\\braket{n_i}=-\\frac{1}{\\beta}\\frac{\\partial}{\\partial (\\hbar \\omega_E)} \\log \\mathcal{Z}\n",
    "\\end{equation}\n",
    "\n",
    "Now to work this out:\n",
    "\\begin{equation}\n",
    "\\log\\mathcal{Z} = - \\sum_{i=1}^{3N} \\log(1-e^{-\\hbar\\beta\\omega_E})\n",
    "\\end{equation}\n",
    "\n",
    "\\begin{equation}\n",
    "\\frac{\\partial}{\\partial \\hbar\\omega_E}  \\log(1-e^{-\\hbar\\beta\\omega_E}) = \\frac{-\\beta e^{-\\beta\\hbar\\omega_E}}{1-e^{-\\hbar\\beta\\omega_E}}\n",
    "\\end{equation}\n",
    "\n",
    "So we get:\n",
    "\n",
    "\\begin{equation}\n",
    "\\braket{n_i}=-\\frac{\\beta}{\\beta}\\frac{e^{-\\beta\\hbar\\omega_E}}{e^{-\\hbar\\beta\\omega_E}-1}\n",
    "\\end{equation}\n",
    "\n",
    "Which becomes:\n",
    "\n",
    "\\begin{equation}\n",
    "\\braket{n_i}=\\frac{1}{e^{\\hbar\\beta\\omega_E}-1}\n",
    "\\end{equation}\n",
    "\n",
    "This expression tells us that the population is "
   ]
  },
  {
   "attachments": {},
   "cell_type": "markdown",
   "metadata": {},
   "source": [
    "### C:\n",
    "\n",
    "Internal Energy is given as:\n",
    "\\begin{equation}\n",
    "U = -\\frac{\\partial}{\\partial \\beta}\\log \\mathcal{Z}\n",
    "\\end{equation}\n",
    "\n",
    "For the entire system\n",
    "\\begin{equation}\n",
    "\\frac{\\partial}{\\partial \\beta}\\log \\mathcal{Z} = -\\sum_{i=1}^{3N} \\frac{\\hbar \\omega_E}{e^{\\beta\\hbar\\omega_i}-1}\n",
    "\\end{equation}\n",
    "\n",
    "So we have:\n",
    "\\begin{equation}\n",
    "U    = \\sum_{i=1}^{3N} \\frac{\\hbar \\omega_i}{e^{\\beta\\hbar\\omega_i}-1}\n",
    "\\end{equation}\n"
   ]
  },
  {
   "attachments": {},
   "cell_type": "markdown",
   "metadata": {},
   "source": [
    "## D: \n",
    "To define the heat capacity we need to find the internal energy stored per unit Volume per unit temperature T.\n",
    "\n",
    "\\begin{equation}\n",
    "    C_V=\\frac{dU}{dT} = \\frac{d}{dT} \\sum_{i=1}^{3N} \\frac{\\hbar \\omega_i}{e^{\\frac{\\hbar\\omega_i}{kT}}-1}\n",
    "\\end{equation}\n",
    "\n",
    "\\begin{equation}\n",
    "    C_V= \\sum_{i=1}^{3N} (\\hbar\\omega_i)^2 \\frac{e^{\\frac{\\hbar \\omega_i}{kT}}}{kT^2\\left(e^{\\frac{\\hbar \\omega_i}{kT}}-1\\right)^2}\n",
    "\\end{equation}\n",
    "\n",
    "Since we can work with $\\omega_E$ we can simply remove the summation and multiply by $3N$, we also resubstitute $\\beta$\n",
    "\n",
    "\\begin{equation}\n",
    "    C_V= 3N (\\hbar\\omega_E)^2 \\beta^2 k\\frac{e^{\\hbar \\beta \\omega_E}}{\\left(e^{\\hbar\\beta \\omega_E}-1\\right)^2}\n",
    "\\end{equation}"
   ]
  },
  {
   "attachments": {},
   "cell_type": "markdown",
   "metadata": {},
   "source": [
    "## E:"
   ]
  },
  {
   "cell_type": "code",
   "execution_count": 3,
   "metadata": {},
   "outputs": [],
   "source": [
    "import numpy as np\n",
    "import scipy\n",
    "import scipy.constants as cst"
   ]
  },
  {
   "cell_type": "code",
   "execution_count": 4,
   "metadata": {},
   "outputs": [],
   "source": [
    "#Temperature in K - Specific Heat (cal/mol/K)\n",
    "data = np.loadtxt('./diamond.dat', delimiter=' ', skiprows=2)"
   ]
  },
  {
   "attachments": {},
   "cell_type": "markdown",
   "metadata": {},
   "source": [
    "Conversion const. 4.184 J/cal\n",
    "\n",
    "Here the equation from slide 28 lecture 11 will be utilized (with k moved to the other side)\n",
    "\n",
    "note that our heat capacity is specific, so that it is equivalent to $C_V/mol=C_V/N_A=C_V/N_A$ since $mol = N_A$ particles and $N_A=N$ for these measurements"
   ]
  },
  {
   "cell_type": "code",
   "execution_count": 5,
   "metadata": {},
   "outputs": [],
   "source": [
    "x_dat = data[:,0] \n",
    "y_dat = data[:,1]*4.184/(3*cst.k*cst.Avogadro)#/ () # cal-> J and move constants over\n",
    "\n",
    "\n",
    "\n",
    "def heat_capactity(T, T_E):\n",
    "    return (T_E/T)**2 * ((np.exp(-T_E/T) ) / ((np.exp(-T_E/T))-1)**2 )\n",
    "\n",
    "\n",
    "T_E, pcov = scipy.optimize.curve_fit(heat_capactity, x_dat, y_dat,p0=[298])\n",
    "T_E=T_E[0]"
   ]
  },
  {
   "cell_type": "code",
   "execution_count": 6,
   "metadata": {},
   "outputs": [
    {
     "data": {
      "text/plain": [
       "1363.7487079528573"
      ]
     },
     "execution_count": 6,
     "metadata": {},
     "output_type": "execute_result"
    }
   ],
   "source": [
    "T_E_diamond = T_E \n",
    "T_E"
   ]
  },
  {
   "attachments": {},
   "cell_type": "markdown",
   "metadata": {},
   "source": [
    "## F:"
   ]
  },
  {
   "cell_type": "code",
   "execution_count": 7,
   "metadata": {},
   "outputs": [
    {
     "name": "stderr",
     "output_type": "stream",
     "text": [
      "/tmp/ipykernel_2055366/3055823458.py:2: RuntimeWarning: overflow encountered in exp\n",
      "  return t**3/(np.exp(t)-1)\n"
     ]
    }
   ],
   "source": [
    "def integral(t):\n",
    "    return t**3/(np.exp(t)-1)\n",
    "\n",
    "def D(x):\n",
    "    # Solver uses array so element wise integrate\n",
    "    return 3/(x**3)*[scipy.integrate.quad(integral,0,i)[0] for i in x]\n",
    "\n",
    "def Debye_temp(T,T_D):\n",
    "    # Equation from Book pae 285 - moved exponent aroun a little - also note the lack of a 3 \n",
    "    return (4*D(T_D/T)- (3*T_D/T*np.exp(-T_D/T))/(1-np.exp(-T_D/T)))\n",
    "\n",
    "\n",
    "T_D, pcov = scipy.optimize.curve_fit(Debye_temp, x_dat, y_dat,p0=[298])\n",
    "T_D=T_D[0]"
   ]
  },
  {
   "cell_type": "code",
   "execution_count": 8,
   "metadata": {},
   "outputs": [
    {
     "data": {
      "text/plain": [
       "1853.7264646538981"
      ]
     },
     "execution_count": 8,
     "metadata": {},
     "output_type": "execute_result"
    }
   ],
   "source": [
    "T_D_diamond = T_D\n",
    "T_D"
   ]
  },
  {
   "attachments": {},
   "cell_type": "markdown",
   "metadata": {},
   "source": [
    "## G:"
   ]
  },
  {
   "cell_type": "code",
   "execution_count": 9,
   "metadata": {},
   "outputs": [
    {
     "name": "stdout",
     "output_type": "stream",
     "text": [
      "Diamond: Einstein: 1363.7487079528573, Debye: 1853.7264646538981\n"
     ]
    },
    {
     "name": "stderr",
     "output_type": "stream",
     "text": [
      "/tmp/ipykernel_2055366/3055823458.py:2: RuntimeWarning: overflow encountered in exp\n",
      "  return t**3/(np.exp(t)-1)\n"
     ]
    },
    {
     "data": {
      "text/plain": [
       "Text(0.5, 1.0, 'Normalized Heat capacity for Diamond')"
      ]
     },
     "execution_count": 9,
     "metadata": {},
     "output_type": "execute_result"
    },
    {
     "data": {
      "image/png": "[encoded data removed]",
      "text/plain": [
       "<Figure size 640x480 with 1 Axes>"
      ]
     },
     "metadata": {},
     "output_type": "display_data"
    }
   ],
   "source": [
    "import matplotlib.pyplot as plt\n",
    "print('Diamond: Einstein: {}, Debye: {}'.format(T_E,T_D))\n",
    "x = np.linspace(0.1,x_dat.max(),1000)\n",
    "plt.plot(x,heat_capactity(x, T_E=T_E), label='Einstein')\n",
    "plt.plot(x,Debye_temp(x, T_D=T_D), label='Debye')\n",
    "plt.scatter(x_dat,y_dat,label='measurements')\n",
    "plt.xlabel(r'$T\\ [K]$')\n",
    "plt.ylabel(r'$\\frac{C_V}{3Nk}$') \n",
    "plt.legend()\n",
    "plt.title('Normalized Heat capacity for Diamond')"
   ]
  },
  {
   "attachments": {},
   "cell_type": "markdown",
   "metadata": {},
   "source": [
    "Here one can see that the Einstein and Debye fits are quite close to each other, the Debye model starts ascending a little earlier than the Einstein model, generally Debye predicts a little higher than Einstein. In the low to mid temperature limit (relative to 0-2000K) Debye gives the better fit, while in the higher limit einstein performs better."
   ]
  },
  {
   "cell_type": "markdown",
   "metadata": {},
   "source": [
    "## H"
   ]
  },
  {
   "cell_type": "code",
   "execution_count": 10,
   "metadata": {},
   "outputs": [
    {
     "name": "stdout",
     "output_type": "stream",
     "text": [
      "Graphite: Einstein: 1167.1410653385772, Debye: 1599.9142304774807"
     ]
    },
    {
     "name": "stderr",
     "output_type": "stream",
     "text": [
      "/tmp/ipykernel_2055366/3055823458.py:2: RuntimeWarning: overflow encountered in exp\n",
      "  return t**3/(np.exp(t)-1)\n"
     ]
    },
    {
     "name": "stdout",
     "output_type": "stream",
     "text": [
      "\n"
     ]
    },
    {
     "data": {
      "text/plain": [
       "Text(0.5, 1.0, 'Normalized heat capacity for graphite')"
      ]
     },
     "execution_count": 10,
     "metadata": {},
     "output_type": "execute_result"
    },
    {
     "data": {
      "image/png": "[encoded data removed]",
      "text/plain": [
       "<Figure size 640x480 with 1 Axes>"
      ]
     },
     "metadata": {},
     "output_type": "display_data"
    }
   ],
   "source": [
    "data = np.loadtxt('./graphite.dat', delimiter=' ', skiprows=2)\n",
    "x_dat = data[:,0] \n",
    "y_dat = data[:,1]/(3*cst.k*cst.Avogadro)#/ () # already in Joules\n",
    "T_E, pcov = scipy.optimize.curve_fit(heat_capactity, x_dat, y_dat)\n",
    "T_E=T_E[0]\n",
    "T_E_graph = T_E\n",
    "T_D, pcov = scipy.optimize.curve_fit(Debye_temp, x_dat, y_dat,p0=[298])\n",
    "T_D=T_D[0]\n",
    "T_D_graph = T_D\n",
    "print('Graphite: Einstein: {}, Debye: {}'.format(T_E,T_D))\n",
    "x = np.linspace(0.1,x_dat.max(),1000)\n",
    "plt.plot(x,heat_capactity(x, T_E=T_E), label='Einstein')\n",
    "plt.plot(x,Debye_temp(x, T_D=T_D), label='Debye')\n",
    "plt.scatter(x_dat,y_dat,label='data')\n",
    "plt.xlabel(r'$T\\ [K]$')\n",
    "# Unitless\n",
    "plt.ylabel(r'$\\frac{C_V}{3Nk}$') \n",
    "plt.legend()\n",
    "plt.title('Normalized heat capacity for graphite')"
   ]
  },
  {
   "attachments": {},
   "cell_type": "markdown",
   "metadata": {},
   "source": [
    "## I:\n",
    "Diamond is a strongly interconnected molecule with symmetries along several spacial axes, i.e. symmetric bonding with each carbon bonded to 4 other carbons in a cubic structure, graphite on the other hand bonds along a plane only, making connections with 3 carbon in a hexagon configuration where individual planes are kept together through the in comparison very small van der Walls force. Since these models are developed for 3 dimensionally propagating phonons, one inherently assumes interconnection interconnection in 3D as this does not descirbe graphite particularly well one achieves poorer fitting results for the planar bonding substance."
   ]
  },
  {
   "attachments": {},
   "cell_type": "markdown",
   "metadata": {},
   "source": [
    "## J:\n",
    "\n",
    "Entropy at room temperature NTP: 293.15 K "
   ]
  },
  {
   "attachments": {},
   "cell_type": "markdown",
   "metadata": {},
   "source": [
    "Entropy can be found using:\n",
    "\\begin{equation}\n",
    "    S = \\int^{T}_0 \\frac{C_V}{T} dT\n",
    "\\end{equation}\n",
    "where the debye specific heat capacity in the NTP limit ($T<<T_D$) is found by:\n",
    "\\begin{equation}\n",
    "\\frac{C_V}{Nk} = \\frac{12\\pi^4}{5}\\left(\\frac{T}{T_D}\\right)^3 + \\mathcal{O}(e^{-T_D/T})\n",
    "\\end{equation}\n",
    "So we have\n",
    "\n",
    "\\begin{equation}\n",
    "    S = Nk\\frac{12\\pi^4}{5 T_D^3}\\int^{T}_0  T^2 dT\n",
    "\\end{equation}\n",
    "which becomes:\n",
    "\\begin{equation}\n",
    "    S = Nk\\frac{12\\pi^4}{5 T_D^3}  \\frac{T^3}{3}\n",
    "\\end{equation}"
   ]
  },
  {
   "cell_type": "code",
   "execution_count": 11,
   "metadata": {},
   "outputs": [
    {
     "name": "stdout",
     "output_type": "stream",
     "text": [
      "Diamond entropy:  2.562455947 [J/K]\n",
      "Graphite entropy: 3.985687592 [J/K]\n"
     ]
    }
   ],
   "source": [
    "def entropy_debye(T_D, N=cst.Avogadro, T=293.15):\n",
    "    return N*cst.k*12*np.pi**4*T**3/(5*T_D**3*3)\n",
    "print('Diamond entropy:  {:.10} [J/K]'.format(entropy_debye(T_D = T_D_diamond)))\n",
    "print('Graphite entropy: {:.10} [J/K]'.format(entropy_debye(T_D = T_D_graph)))"
   ]
  },
  {
   "cell_type": "code",
   "execution_count": null,
   "metadata": {},
   "outputs": [],
   "source": []
  },
  {
   "cell_type": "code",
   "execution_count": null,
   "metadata": {},
   "outputs": [],
   "source": []
  }
 ],
 "metadata": {
  "kernelspec": {
   "display_name": "base",
   "language": "python",
   "name": "python3"
  },
  "language_info": {
   "codemirror_mode": {
    "name": "ipython",
    "version": 3
   },
   "file_extension": ".py",
   "mimetype": "text/x-python",
   "name": "python",
   "nbconvert_exporter": "python",
   "pygments_lexer": "ipython3",
   "version": "3.9.12"
  },
  "orig_nbformat": 4,
  "vscode": {
   "interpreter": {
    "hash": "265371ff1b98b9f4eaa16d44fb1eb5bb5e02f4557e1c68186d1d500959ccd159"
   }
  }
 },
 "nbformat": 4,
 "nbformat_minor": 2
}
