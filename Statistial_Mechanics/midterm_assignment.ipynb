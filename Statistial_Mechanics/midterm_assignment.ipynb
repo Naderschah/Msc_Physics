{
 "cells": [
  {
   "attachments": {},
   "cell_type": "markdown",
   "metadata": {},
   "source": [
    "# Statistical Mechanics Midterm Asignment\n",
    "## Felix Semler\n",
    "## S3898547\n",
    "\n",
    "Notation:\n",
    "I use $\\mathcal{Z}$ for the partition function due to habit"
   ]
  },
  {
   "attachments": {},
   "cell_type": "markdown",
   "metadata": {},
   "source": [
    "### A:\n",
    "\n",
    "Using the Quantum Harmonic oscillator formulation we know that the energy levels are:\n",
    "\\begin{equation}\n",
    " E_n = (n+\\frac{1}{2}) \\hbar\\omega\n",
    "\\end{equation}\n",
    "\n",
    "As we are modelling N 3-dimensional coupled oscillators, or equivalently 3N 1-dimensional independent oscillators with differing oscillation frequencies we require that omega be the average oscillation frequency denoted as $\\omega_E$\n",
    "\n",
    "Furthermore, we can get rid of the $E_0$ energy as it is constant and does not contribute to the thermodynamic properties\n",
    "\n",
    "We define the partition function for a discrete ensemble as :\n",
    "\\begin{equation}\n",
    " \\mathcal{Z} \\equiv \\sum_{n} e^{-E_n\\beta}\n",
    "\\end{equation}\n",
    "\n",
    "So we can write:\n",
    "\\begin{equation}\n",
    " \\mathcal{Z} = \\sum_{n=0}^{\\infty} e^{-n\\hbar\\omega_E\\beta}\n",
    "\\end{equation}\n",
    "\n",
    "for individual phonons.\n",
    "\n",
    "As our phonons are independent (or assumed to be so) a system with 3N vibrational modes will be the product of each phonons partition function\n",
    "\n",
    "\\begin{equation}\n",
    " \\mathcal{Z} = \\prod_{k=1}^{3N} \\mathcal{Z}_k\n",
    "\\end{equation}\n",
    "\n",
    "We can rewrite our individual phonon partition function using:\n",
    "\\begin{equation}\n",
    " \\sum_{x=0}^{\\infty} e^{cx} = \\frac{1}{1-e^c}\n",
    "\\end{equation}\n",
    "\n",
    "Which gives us:\n",
    "\\begin{equation}\n",
    " \\mathcal{Z}_k = \\sum_{n=0}^{\\infty} e^{-n\\hbar\\omega_E\\beta} =  \\frac{ 1}{1-e^{-\\hbar\\omega_E\\beta}}\n",
    "\\end{equation}\n",
    "\n",
    "So that the systems partition function is:\n",
    "\n",
    "\\begin{equation}\n",
    " \\mathcal{Z} = \\prod_{k=1}^{\\infty} \\frac{ 1}{1-e^{-\\hbar\\omega_E\\beta}}\n",
    "\\end{equation}\n"
   ]
  },
  {
   "attachments": {},
   "cell_type": "markdown",
   "metadata": {},
   "source": [
    "### B:\n",
    "\n",
    "The average occupational number is given as:\n",
    "\\begin{equation}\n",
    "\\braket{n_i}=-\\frac{1}{\\beta}\\frac{\\partial}{\\partial (\\hbar \\omega_i)} \\log \\mathcal{Z}\n",
    "\\end{equation}\n",
    "\n",
    "Now to work this out:\n",
    "\\begin{equation}\n",
    "\\log\\mathcal{Z} = - \\sum_{i=1}^{3N} \\log(1-e^{-\\hbar\\beta\\omega_i})\n",
    "\\end{equation}\n",
    "\n",
    "\\begin{equation}\n",
    "\\frac{\\partial}{\\partial \\hbar\\omega_i}  \\log(1-e^{-\\hbar\\beta\\omega_i}) = \\frac{-\\beta e^{-\\beta\\hbar\\omega_i}}{1-e^{-\\hbar\\beta\\omega_i}}\n",
    "\\end{equation}\n",
    "\n",
    "So we get:\n",
    "\n",
    "\\begin{equation}\n",
    "\\braket{n_i}=-\\frac{\\beta}{\\beta}\\frac{e^{-\\beta\\hbar\\omega_i}}{e^{-\\hbar\\beta\\omega_i}-1}\n",
    "\\end{equation}\n",
    "\n",
    "Which becomes:\n",
    "\n",
    "\\begin{equation}\n",
    "\\braket{n_i}=\\frac{1}{e^{\\hbar\\beta\\omega_i}-1}\n",
    "\\end{equation}"
   ]
  },
  {
   "attachments": {},
   "cell_type": "markdown",
   "metadata": {},
   "source": [
    "### C:\n",
    "\n",
    "Internal Energy is given as:\n",
    "\\begin{equation}\n",
    "U = -\\frac{\\partial}{\\partial \\beta}\\log \\mathcal{Z}\n",
    "\\end{equation}\n",
    "\n",
    "For the entire system\n",
    "\\begin{equation}\n",
    "\\frac{\\partial}{\\partial \\beta}\\log \\mathcal{Z} = -\\sum_{i=1}^{3N} \\frac{\\hbar \\omega_i}{e^{\\beta\\hbar\\omega_i}-1}\n",
    "\\end{equation}\n",
    "\n",
    "So we have:\n",
    "\\begin{equation}\n",
    "U    = \\sum_{i=1}^{3N} \\frac{\\hbar \\omega_i}{e^{\\beta\\hbar\\omega_i}-1}\n",
    "\\end{equation}\n"
   ]
  },
  {
   "attachments": {},
   "cell_type": "markdown",
   "metadata": {},
   "source": [
    "D: \n",
    "The heat capacity can be found using:\n",
    "\\begin{equation}\n",
    "C_v = \\frac{\\partial U}{\\partial T}\n",
    "\\end{equation}\n",
    "and the Deby\n",
    "\n",
    "\n",
    "\n",
    "# TODO: Book page 280 has derivation where does VOlume come from\n",
    "\n"
   ]
  },
  {
   "attachments": {},
   "cell_type": "markdown",
   "metadata": {},
   "source": [
    "## E:"
   ]
  },
  {
   "cell_type": "code",
   "execution_count": 1,
   "metadata": {},
   "outputs": [],
   "source": [
    "import numpy as np\n",
    "import scipy\n",
    "import scipy.constants as cst"
   ]
  },
  {
   "cell_type": "code",
   "execution_count": 2,
   "metadata": {},
   "outputs": [],
   "source": [
    "#Temperature in K - Specific Heat (cal/mol/K)\n",
    "data = np.loadtxt('./diamond.dat', delimiter=' ', skiprows=2)"
   ]
  },
  {
   "attachments": {},
   "cell_type": "markdown",
   "metadata": {},
   "source": [
    "Conversion const. 4184 J/cal\n",
    "\n",
    "Here the equation from slide 28 lecture 11 will be utilized (with k moved to the other side)\n",
    "\n",
    "note that our heat capacity is specific, so that it is equivalent to $C_V/mol=C_V/N_A=C_V/N$ since $mol = N_A$ particles and $N_A=N$ for these measurements\n",
    "\n",
    "\n",
    "TODO : Data wrong tell prof"
   ]
  },
  {
   "cell_type": "code",
   "execution_count": 49,
   "metadata": {},
   "outputs": [
    {
     "name": "stderr",
     "output_type": "stream",
     "text": [
      "/tmp/ipykernel_3734149/3035032900.py:9: RuntimeWarning: overflow encountered in exp\n",
      "  return (T_E/T)**2 * ((np.exp(T_E/T) ) / ((np.exp(T_E/T))-1)**2 )\n",
      "/tmp/ipykernel_3734149/3035032900.py:9: RuntimeWarning: invalid value encountered in true_divide\n",
      "  return (T_E/T)**2 * ((np.exp(T_E/T) ) / ((np.exp(T_E/T))-1)**2 )\n",
      "/tmp/ipykernel_3734149/3035032900.py:9: RuntimeWarning: overflow encountered in square\n",
      "  return (T_E/T)**2 * ((np.exp(T_E/T) ) / ((np.exp(T_E/T))-1)**2 )\n"
     ]
    }
   ],
   "source": [
    "x_dat = data[:,0] \n",
    "y_dat = data[:,1]*4.184/(3*cst.k*cst.Avogadro)#/ () # cal-> J and move constants over\n",
    "\n",
    "\n",
    "\n",
    "\n",
    "\n",
    "def heat_capactity(T, T_E):\n",
    "    return (T_E/T)**2 * ((np.exp(T_E/T) ) / ((np.exp(T_E/T))-1)**2 )\n",
    "\n",
    "\n",
    "#Alternate form\n",
    "#def heat_capactity(T, T_E):\n",
    "#    return T_E**2*(1/(np.sinh(T_E/2*T)**2))/(4*T**2)\n",
    "\n",
    "\n",
    "# Low T form:\n",
    "#def heat_capactity(T, T_E):\n",
    "#    return (T_E/T)**2 * (np.exp(-T_E/T) )# / ((np.exp(T_E/T))-1)**2 )\n",
    "\n",
    "\n",
    "T_E, pcov = scipy.optimize.curve_fit(heat_capactity, x_dat, y_dat,p0=[298])\n",
    "T_E=T_E[0]"
   ]
  },
  {
   "cell_type": "code",
   "execution_count": 50,
   "metadata": {},
   "outputs": [
    {
     "data": {
      "text/plain": [
       "709.7827025809898"
      ]
     },
     "execution_count": 50,
     "metadata": {},
     "output_type": "execute_result"
    }
   ],
   "source": [
    "T_E"
   ]
  },
  {
   "cell_type": "code",
   "execution_count": 51,
   "metadata": {},
   "outputs": [
    {
     "name": "stderr",
     "output_type": "stream",
     "text": [
      "/tmp/ipykernel_3734149/3035032900.py:9: RuntimeWarning: overflow encountered in exp\n",
      "  return (T_E/T)**2 * ((np.exp(T_E/T) ) / ((np.exp(T_E/T))-1)**2 )\n",
      "/tmp/ipykernel_3734149/3035032900.py:9: RuntimeWarning: invalid value encountered in true_divide\n",
      "  return (T_E/T)**2 * ((np.exp(T_E/T) ) / ((np.exp(T_E/T))-1)**2 )\n"
     ]
    },
    {
     "data": {
      "text/plain": [
       "Text(0.5, 1.0, 'Normalized heat capacity vs normalized temperature for a diamond')"
      ]
     },
     "execution_count": 51,
     "metadata": {},
     "output_type": "execute_result"
    },
    {
     "data": {
      "image/png": "[encoded data removed]",
      "text/plain": [
       "<Figure size 640x480 with 1 Axes>"
      ]
     },
     "metadata": {},
     "output_type": "display_data"
    }
   ],
   "source": [
    "import matplotlib.pyplot as plt\n",
    "x = np.linspace(0.1,x_dat.max(),1000)\n",
    "plt.plot(x/T_E,heat_capactity(x, T_E=T_E), label='Model')\n",
    "plt.scatter(x_dat/T_E,y_dat,label='data')\n",
    "plt.xlabel(r'$T/T_E$')\n",
    "plt.ylabel(r'$\\frac{C_V}{3Nk}$')\n",
    "plt.legend()\n",
    "plt.title('Normalized heat capacity vs normalized temperature for a diamond')"
   ]
  },
  {
   "cell_type": "code",
   "execution_count": 30,
   "metadata": {},
   "outputs": [
    {
     "name": "stderr",
     "output_type": "stream",
     "text": [
      "/tmp/ipykernel_3734149/3035032900.py:9: RuntimeWarning: divide by zero encountered in true_divide\n",
      "  return (T_E/T)**2 * ((np.exp(T_E/T) ) / ((np.exp(T_E/T))-1)**2 )\n",
      "/tmp/ipykernel_3734149/3035032900.py:9: RuntimeWarning: invalid value encountered in multiply\n",
      "  return (T_E/T)**2 * ((np.exp(T_E/T) ) / ((np.exp(T_E/T))-1)**2 )\n"
     ]
    },
    {
     "data": {
      "text/plain": [
       "<matplotlib.legend.Legend at 0x7faf205351c0>"
      ]
     },
     "execution_count": 30,
     "metadata": {},
     "output_type": "execute_result"
    },
    {
     "data": {
      "image/png": "[encoded data removed]",
      "text/plain": [
       "<Figure size 640x480 with 1 Axes>"
      ]
     },
     "metadata": {},
     "output_type": "display_data"
    }
   ],
   "source": [
    "for i in range(5):\n",
    "    T_E = (i+0)*25\n",
    "    T=np.linspace(1,200,20000)\n",
    "    #plt.plot(T,((T_E/T)**2 * ((np.exp(T_E/T) ) / ((np.exp(T_E/T))-1)**2 )), label=(i+1)*25)\n",
    "    plt.plot(T,heat_capactity(T,T_E), label=(i+1)*25)\n",
    "plt.scatter(x_dat,y_dat/6,label='data')\n",
    "plt.legend()"
   ]
  },
  {
   "cell_type": "code",
   "execution_count": 124,
   "metadata": {},
   "outputs": [
    {
     "data": {
      "text/plain": [
       "array([4.00907850e-02, 2.00453925e+00, 4.00907850e+00, 6.01361775e+00,\n",
       "       8.01815700e+00, 1.00226963e+01, 1.19470539e+01, 1.20272355e+01,\n",
       "       1.40317748e+01, 1.60363140e+01, 1.80408533e+01, 2.00453925e+01,\n",
       "       2.20499318e+01, 2.40544710e+01, 2.60590103e+01, 2.80635495e+01,\n",
       "       3.00680888e+01, 3.20726280e+01, 3.40771673e+01, 3.60817065e+01,\n",
       "       3.80862458e+01, 4.00907850e+01, 4.20953243e+01, 4.81089420e+01,\n",
       "       5.21180205e+01, 5.61270990e+01, 6.01361775e+01, 6.41452560e+01,\n",
       "       7.21634130e+01, 8.01815700e+01])"
      ]
     },
     "execution_count": 124,
     "metadata": {},
     "output_type": "execute_result"
    }
   ],
   "source": [
    "x_dat"
   ]
  },
  {
   "cell_type": "code",
   "execution_count": null,
   "metadata": {},
   "outputs": [],
   "source": []
  },
  {
   "cell_type": "code",
   "execution_count": null,
   "metadata": {},
   "outputs": [],
   "source": []
  },
  {
   "cell_type": "code",
   "execution_count": null,
   "metadata": {},
   "outputs": [],
   "source": []
  },
  {
   "cell_type": "code",
   "execution_count": null,
   "metadata": {},
   "outputs": [],
   "source": []
  },
  {
   "attachments": {},
   "cell_type": "markdown",
   "metadata": {},
   "source": [
    "## F:"
   ]
  },
  {
   "cell_type": "code",
   "execution_count": null,
   "metadata": {},
   "outputs": [],
   "source": [
    "def debye(T,T_D):"
   ]
  }
 ],
 "metadata": {
  "kernelspec": {
   "display_name": "Python 3",
   "language": "python",
   "name": "python3"
  },
  "language_info": {
   "codemirror_mode": {
    "name": "ipython",
    "version": 3
   },
   "file_extension": ".py",
   "mimetype": "text/x-python",
   "name": "python",
   "nbconvert_exporter": "python",
   "pygments_lexer": "ipython3",
   "version": "3.9.12"
  },
  "orig_nbformat": 4
 },
 "nbformat": 4,
 "nbformat_minor": 2
}
